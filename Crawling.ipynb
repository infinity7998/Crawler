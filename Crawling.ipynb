{
 "cells": [
  {
   "cell_type": "markdown",
   "id": "national-negative",
   "metadata": {},
   "source": [
    "# Exploring Crawling"
   ]
  },
  {
   "cell_type": "code",
   "execution_count": 1,
   "id": "configured-album",
   "metadata": {},
   "outputs": [],
   "source": [
    "# URL = 'https://realpython.com/headless-selenium-testing-with-python-and-phantomjs/'"
   ]
  },
  {
   "cell_type": "code",
   "execution_count": 2,
   "id": "about-alcohol",
   "metadata": {},
   "outputs": [],
   "source": [
    "URL = 'https://site-hossain.web.app'"
   ]
  },
  {
   "cell_type": "markdown",
   "id": "radical-career",
   "metadata": {},
   "source": [
    "## Libs for processing data."
   ]
  },
  {
   "cell_type": "code",
   "execution_count": 3,
   "id": "absolute-collectible",
   "metadata": {},
   "outputs": [],
   "source": [
    "import selenium.webdriver\n",
    "import selenium as se"
   ]
  },
  {
   "cell_type": "code",
   "execution_count": 4,
   "id": "blocked-hands",
   "metadata": {},
   "outputs": [],
   "source": [
    "from collections import defaultdict\n",
    "from abc import ABCMeta\n",
    "from abc import abstractmethod\n",
    "from typing import Iterable\n",
    "from copy import deepcopy as dc"
   ]
  },
  {
   "cell_type": "code",
   "execution_count": 5,
   "id": "particular-address",
   "metadata": {},
   "outputs": [],
   "source": [
    "class BaseCrawler():\n",
    "    \"\"\"\n",
    "    A Crawler wrapper of selenium Chrome WebDriver.\n",
    "    \"\"\"\n",
    "    def __init__(self, url=''):\n",
    "        self.driver = None\n",
    "        self.url = url\n",
    "        pass\n",
    "\n",
    "    def setup(self, options=None):\n",
    "        if not options:\n",
    "            options = selenium.webdriver.ChromeOptions()\n",
    "            options.add_argument('headless')\n",
    "        self.driver = selenium.webdriver.Chrome(options=options)\n",
    "    \n",
    "    def get(self, url=''):\n",
    "        self._lazy_init()\n",
    "        if url:\n",
    "            self.url = url\n",
    "        return self.driver.get(self.url)\n",
    "    \n",
    "    def _lazy_init(self, options=None):\n",
    "        if not self.driver:\n",
    "            self.setup(options)\n",
    "        \n",
    "    def find_element(self, tag, attributes=[], keep_dom=False):\n",
    "        self._lazy_init()\n",
    "        all_elements = self.driver.find_elements_by_tag_name(tag)\n",
    "        if keep_dom or not attributes:\n",
    "            yield from all_elements\n",
    "        else:   \n",
    "            yield from map(lambda x: tuple(x.get_attribute(attr) for attr in attributes), all_elements)\n",
    "    \n",
    "    def find_anchors(self, *args, **kwargs):\n",
    "        yield from self.find_element(tag='a', *args, **kwargs)\n",
    "\n",
    "    def find_images(self, *args, **kwargs):\n",
    "        yield from self.find_element(tag='img', *args, **kwargs)\n",
    "\n",
    "    def find_all_text(self):\n",
    "        yield from map(lambda x: x.text, self.find_element(tag='body', keep_dom=True))\n",
    "    \n",
    "    def driver(self):\n",
    "        return self.driver\n",
    "    \n",
    "    def __str__(self):\n",
    "        return f'Chrome crawler for: {self.url} \\n Initialized: \\t {self.url is not None}'\n",
    "\n",
    "    def done(self):\n",
    "        self.driver.close()\n",
    "        self.driver = None"
   ]
  },
  {
   "cell_type": "markdown",
   "id": "sudden-cinema",
   "metadata": {},
   "source": [
    "### Get links from an html document."
   ]
  },
  {
   "cell_type": "markdown",
   "id": "operational-importance",
   "metadata": {},
   "source": [
    "# Visualization stuff"
   ]
  },
  {
   "cell_type": "code",
   "execution_count": 6,
   "id": "fallen-register",
   "metadata": {},
   "outputs": [],
   "source": [
    "import pandas as pd"
   ]
  },
  {
   "cell_type": "markdown",
   "id": "accepted-agreement",
   "metadata": {},
   "source": [
    "# Graph stuff"
   ]
  },
  {
   "cell_type": "code",
   "execution_count": 7,
   "id": "silver-spank",
   "metadata": {},
   "outputs": [],
   "source": [
    "class Edge(metaclass=ABCMeta):\n",
    "    def __init__(self):\n",
    "        pass\n",
    "\n",
    "    @abstractmethod\n",
    "    def value(self):\n",
    "        return\n",
    "\n",
    "    @abstractmethod\n",
    "    def label(self):\n",
    "        return\n",
    "    \n",
    "    @abstractmethod\n",
    "    def weight(self):\n",
    "        return\n",
    "    \n",
    "    def __hash__(self):\n",
    "        return hash(self.value())\n",
    "\n",
    "    def __str__(self):\n",
    "        return str(self.label())"
   ]
  },
  {
   "cell_type": "code",
   "execution_count": 8,
   "id": "supreme-daisy",
   "metadata": {},
   "outputs": [],
   "source": [
    "class Node(metaclass=ABCMeta):\n",
    "    def __init__(self):\n",
    "        pass\n",
    "        \n",
    "    @abstractmethod\n",
    "    def value(self):\n",
    "        return\n",
    "\n",
    "    @abstractmethod\n",
    "    def label(self):\n",
    "        return\n",
    "    \n",
    "    @abstractmethod\n",
    "    def data(self):\n",
    "        return\n",
    "    \n",
    "    def __hash__(self):\n",
    "        return hash(self.value())\n",
    "    \n",
    "    def __str__(self):\n",
    "        return str(self.label())"
   ]
  },
  {
   "cell_type": "code",
   "execution_count": 9,
   "id": "wrapped-calvin",
   "metadata": {},
   "outputs": [],
   "source": [
    "class SearchParams:\n",
    "    def __init__(self, **kwargs):\n",
    "        _not_allowed_keys = set()\n",
    "        self.__dict__.update((k, v) for k, v in kwargs.items() if k not in _not_allowed_keys)\n",
    "        pass\n",
    "    \n",
    "    def __str__(self):\n",
    "        return self.__dict__.__str__()"
   ]
  },
  {
   "cell_type": "code",
   "execution_count": 10,
   "id": "complex-yorkshire",
   "metadata": {},
   "outputs": [],
   "source": [
    "from math import inf\n",
    "from queue import PriorityQueue\n",
    "\n",
    "\n",
    "class Graph(metaclass=ABCMeta):\n",
    "    def __init__(self, name='', directed=True):\n",
    "        self.adjacencies = dict()\n",
    "        self.nodes = set()\n",
    "        self.directed = directed\n",
    "        self.edges = defaultdict(dict)\n",
    "        pass\n",
    "    \n",
    "    def neighbors(self, node: Node):\n",
    "        if node in self.adjacencies:\n",
    "            yield from self.adjacencies[node]\n",
    "    \n",
    "    def add_node(self, node: Node):\n",
    "        if node not in self.nodes:\n",
    "            self.nodes |= {node}\n",
    "            self.adjacencies[node] = set()\n",
    "#         else:\n",
    "#             raise Exception(f'Node {str(node)} already exists.')\n",
    "    \n",
    "    def add_nodes(self, nodes: Iterable[Node]):\n",
    "        for node in nodes:\n",
    "            self.add_node(node)\n",
    "        pass\n",
    "    \n",
    "    def add_edge(self, start: Node, end: Node, *args, **kwargs):\n",
    "        _wt = kwargs.get('weight', 1.0)\n",
    "        edge = GraphEdge(start, end, *args, **kwargs)\n",
    "        \n",
    "        self.adjacencies[start] |= {(end, _wt)}\n",
    "        self.edges[edge] |= {(start, end, _wt)}\n",
    "        \n",
    "        if not self.directed:\n",
    "            self.adjacencies[end] |= {(start, _wt)}\n",
    "    \n",
    "    def add_edges(self, edges: Iterable[Edge]):\n",
    "        for start, end, *rest in edges:\n",
    "            self.add_edge(start, end, *rest)\n",
    "    \n",
    "    def bfs_explore(self, start: Node, use_neighbors=None, **search_params: SearchParams):\n",
    "        _max_depth = search_params.get('max_depth', 5)\n",
    "        _max_nodes_bound = search_params.get('max_nodes_bound', 10)\n",
    "        _max_edges_bound = search_params.get('max_edges_bound', 100)\n",
    "        \n",
    "        if use_neighbors:\n",
    "            neighbor_function = use_neighbors(self)\n",
    "        else:\n",
    "            neighbor_function = self.neighbors\n",
    "        _queue = PriorityQueue()\n",
    "        _visited_nodes = set()\n",
    "        _visited_edges = set()\n",
    "        _distances = defaultdict(lambda:defaultdict(lambda:(inf, 0)))\n",
    "\n",
    "        _distances[start][start] = (0, 0)\n",
    "        \n",
    "        _queue.put((0, start, None))\n",
    "        \n",
    "        while _queue.qsize() and len(_visited_nodes) <= _max_nodes_bound and len(_visited_edges) <= _max_edges_bound:\n",
    "            weight, current, parent = _queue.get()\n",
    "            _visited_nodes |= {current}\n",
    "            \n",
    "            for nbr, edge in neighbor_function(current):\n",
    "                if nbr not in _visited_nodes and edge not in _visited_edges:\n",
    "                    wt, depth = _distances[start][nbr]\n",
    "                    wt_prev, depth_prev = _distances[start][current]\n",
    "                    if depth_prev >= _max_depth:\n",
    "                        continue\n",
    "                    if wt_prev + edge.weight() < wt:\n",
    "                        _distances[start][nbr] = (wt_prev + edge.weight(), depth_prev + 1)\n",
    "                    _visited_edges |= {edge}\n",
    "                    _queue.put((_distances[start][nbr], nbr, current))\n",
    "        return _distances\n",
    "        \n",
    "    def __getitem__(self, key):\n",
    "        if key in self.adjacencies:\n",
    "            return self.adjacencies[key]\n",
    "        raise Exception(f'No node of key: {key}')\n",
    "    \n",
    "    def __iter__(self):\n",
    "        return iter(self.adjacencies)\n",
    "    \n",
    "    def __len__(self):\n",
    "        return len(self.adjacencies)\n",
    "    \n",
    "    def adj(self):\n",
    "        return self.adjacencies\n",
    "    \n",
    "    def size(self):\n",
    "        return len(self.edges)\n",
    "    \n",
    "    def __str__(self):\n",
    "        return str(self.adjacencies.keys())\n",
    "    "
   ]
  },
  {
   "cell_type": "code",
   "execution_count": 11,
   "id": "under-bonus",
   "metadata": {},
   "outputs": [],
   "source": [
    "params = SearchParams(_max_depth=2, _max_nodes_bound=3, _max_edges_bound=3)"
   ]
  },
  {
   "cell_type": "code",
   "execution_count": 12,
   "id": "robust-dispute",
   "metadata": {},
   "outputs": [],
   "source": [
    "class GraphNode(Node):\n",
    "    def __init__(self, dom_node: se.webdriver.remote.webelement.WebElement, data=None):\n",
    "        super().__init__()\n",
    "        \n",
    "        self._value = None\n",
    "        self._label = None\n",
    "        self._data = data\n",
    "        self._underlying_dom_node = dom_node\n",
    "        self._node_id = dom_node.id\n",
    "        \n",
    "    \n",
    "        if dom_node.tag_name == 'a':\n",
    "            self._value = dom_node.get_attribute('href')\n",
    "            temp = dom_node.get_attribute('text')\n",
    "            if temp.strip() != '':\n",
    "                self._label = temp\n",
    "            else:\n",
    "                self._label = 'unlabelled/link'\n",
    "            \n",
    "        elif dom_node.tag_name == 'img':\n",
    "            self._value = dom_node.get_attribute('src')\n",
    "            temp = dom_node.get_attribute('alt')\n",
    "            if temp.strip() != '':\n",
    "                self._label = temp\n",
    "            else:\n",
    "                self._label = 'no-alt/image'\n",
    "        else:\n",
    "            pass\n",
    "    \n",
    "    def value(self):\n",
    "        return self._value\n",
    "    \n",
    "    def label(self):\n",
    "        return self._label\n",
    "    \n",
    "    def data(self):\n",
    "        return self._data\n",
    "    \n",
    "    def get_underlying_dom_node(self):\n",
    "        return self._underlying_dom_node\n",
    "    \n",
    "    def get_node_id(self):\n",
    "        return self._node_id\n",
    "    \n",
    "    def __str__(self):\n",
    "        return str(self._label)"
   ]
  },
  {
   "cell_type": "code",
   "execution_count": 13,
   "id": "nervous-metabolism",
   "metadata": {},
   "outputs": [],
   "source": [
    "class GraphEdge(Edge):\n",
    "    def __init__(self, start: GraphNode, end: GraphNode, weight: float = 1.0, label: str = ''):    \n",
    "        super().__init__()\n",
    "        \n",
    "        self._value = f'({str(start)} ==> {str(end)}, weight: {weight})'\n",
    "        self._label = label if label else self._value\n",
    "        self._weight = weight\n",
    "        self._start = start\n",
    "        self._end = end\n",
    "        self._edge_id = f'{start.get_node_id()}==>{end.get_node_id()}'\n",
    "    \n",
    "    def value(self):\n",
    "        return self._value\n",
    "    \n",
    "    def label(self):\n",
    "        return self._label\n",
    "\n",
    "    def weight(self):\n",
    "        return self._weight\n",
    "    \n",
    "    def start(self):\n",
    "        return self._start\n",
    "    \n",
    "    def end(self):\n",
    "        return self._end\n",
    "    \n",
    "    def get_edge_id(self):\n",
    "        return self._edge_id\n",
    "    \n",
    "    def __str__(self):\n",
    "        return f'Label: {self._label}\\nValue: {self._value}'\n",
    "    \n",
    "    def __hash__(self):\n",
    "        return hash(self.get_edge_id())\n",
    "    \n",
    "        "
   ]
  },
  {
   "cell_type": "code",
   "execution_count": 14,
   "id": "comparative-electric",
   "metadata": {},
   "outputs": [],
   "source": [
    "class DOMNodeGraph(Graph):\n",
    "    def __init__(self, name='', directed=True):\n",
    "        self.name = name\n",
    "        self.directed = directed\n",
    "        super().__init__(name=name, directed=directed)\n",
    "\n",
    "    \n",
    "    def __str__(self):\n",
    "        return super().__str__()\n",
    "    "
   ]
  },
  {
   "cell_type": "code",
   "execution_count": 15,
   "id": "southern-quantity",
   "metadata": {},
   "outputs": [],
   "source": [
    "def make_node(dom_node, data=None):\n",
    "    return GraphNode(dom_node, data=data)\n",
    "\n",
    "def make_edge(start, end, *args, **kwargs):\n",
    "    return GraphEdge(start, end, *args, **kwargs)"
   ]
  },
  {
   "cell_type": "code",
   "execution_count": 16,
   "id": "bigger-discipline",
   "metadata": {},
   "outputs": [],
   "source": [
    "class GraphCrawler(BaseCrawler):\n",
    "    def __init__(self, url='', name=''):\n",
    "        super().__init__(url=url)\n",
    "        \n",
    "        self.name = name\n",
    "        self.graph = DOMNodeGraph(name=name)\n",
    "        pass\n",
    "\n",
    "    def initialize_root(self):\n",
    "        curr = self.get()\n",
    "        self.graph.add_node(make_node(dom_node=curr, data=self.find_all_text()))\n",
    "        print(self.graph)\n",
    "        _anchors = self.find_anchors(attributes=[\"href\", \"text\"])\n",
    "        _anchor_nodes = map(lambda x: make_node(url=x[0], data=''), _anchors)\n",
    "        self.graph.add_nodes(_anchor_nodes)\n",
    "        self.graph.add_edges(map(lambda a: make_edge(curr, a), self.find_anchors(keep_dom=True)))\n",
    "        pass\n",
    "    \n",
    "    def __repr__(self):\n",
    "        return self.__str__()\n",
    "    \n",
    "    @staticmethod\n",
    "    def use_neighbors(graph):\n",
    "        \n",
    "        print(graph)\n",
    "        return lambda x: [(None, None)]\n",
    "    \n",
    "    def __str__(self):\n",
    "        return f'GraphCrawler: {self.name}, rooted at: {self.url}.\\nMy cache is: {str(self.cache)}'"
   ]
  },
  {
   "cell_type": "code",
   "execution_count": 17,
   "id": "beneficial-solution",
   "metadata": {},
   "outputs": [],
   "source": [
    "gc = GraphCrawler(url=URL, name='Crawley')"
   ]
  },
  {
   "cell_type": "code",
   "execution_count": 18,
   "id": "beautiful-transfer",
   "metadata": {},
   "outputs": [
    {
     "ename": "AttributeError",
     "evalue": "'NoneType' object has no attribute 'id'",
     "output_type": "error",
     "traceback": [
      "\u001b[0;31m---------------------------------------------------------------------------\u001b[0m",
      "\u001b[0;31mAttributeError\u001b[0m                            Traceback (most recent call last)",
      "\u001b[0;32m<ipython-input-18-2fc5a0bff5de>\u001b[0m in \u001b[0;36m<module>\u001b[0;34m\u001b[0m\n\u001b[0;32m----> 1\u001b[0;31m \u001b[0mgc\u001b[0m\u001b[0;34m.\u001b[0m\u001b[0minitialize_root\u001b[0m\u001b[0;34m(\u001b[0m\u001b[0;34m)\u001b[0m\u001b[0;34m\u001b[0m\u001b[0;34m\u001b[0m\u001b[0m\n\u001b[0m",
      "\u001b[0;32m<ipython-input-16-c013d21a99bf>\u001b[0m in \u001b[0;36minitialize_root\u001b[0;34m(self)\u001b[0m\n\u001b[1;32m      8\u001b[0m     \u001b[0;32mdef\u001b[0m \u001b[0minitialize_root\u001b[0m\u001b[0;34m(\u001b[0m\u001b[0mself\u001b[0m\u001b[0;34m)\u001b[0m\u001b[0;34m:\u001b[0m\u001b[0;34m\u001b[0m\u001b[0;34m\u001b[0m\u001b[0m\n\u001b[1;32m      9\u001b[0m         \u001b[0mcurr\u001b[0m \u001b[0;34m=\u001b[0m \u001b[0mself\u001b[0m\u001b[0;34m.\u001b[0m\u001b[0mget\u001b[0m\u001b[0;34m(\u001b[0m\u001b[0;34m)\u001b[0m\u001b[0;34m\u001b[0m\u001b[0;34m\u001b[0m\u001b[0m\n\u001b[0;32m---> 10\u001b[0;31m         \u001b[0mself\u001b[0m\u001b[0;34m.\u001b[0m\u001b[0mgraph\u001b[0m\u001b[0;34m.\u001b[0m\u001b[0madd_node\u001b[0m\u001b[0;34m(\u001b[0m\u001b[0mmake_node\u001b[0m\u001b[0;34m(\u001b[0m\u001b[0mdom_node\u001b[0m\u001b[0;34m=\u001b[0m\u001b[0mcurr\u001b[0m\u001b[0;34m,\u001b[0m \u001b[0mdata\u001b[0m\u001b[0;34m=\u001b[0m\u001b[0mself\u001b[0m\u001b[0;34m.\u001b[0m\u001b[0mfind_all_text\u001b[0m\u001b[0;34m(\u001b[0m\u001b[0;34m)\u001b[0m\u001b[0;34m)\u001b[0m\u001b[0;34m)\u001b[0m\u001b[0;34m\u001b[0m\u001b[0;34m\u001b[0m\u001b[0m\n\u001b[0m\u001b[1;32m     11\u001b[0m         \u001b[0mprint\u001b[0m\u001b[0;34m(\u001b[0m\u001b[0mself\u001b[0m\u001b[0;34m.\u001b[0m\u001b[0mgraph\u001b[0m\u001b[0;34m)\u001b[0m\u001b[0;34m\u001b[0m\u001b[0;34m\u001b[0m\u001b[0m\n\u001b[1;32m     12\u001b[0m         \u001b[0m_anchors\u001b[0m \u001b[0;34m=\u001b[0m \u001b[0mself\u001b[0m\u001b[0;34m.\u001b[0m\u001b[0mfind_anchors\u001b[0m\u001b[0;34m(\u001b[0m\u001b[0mattributes\u001b[0m\u001b[0;34m=\u001b[0m\u001b[0;34m[\u001b[0m\u001b[0;34m\"href\"\u001b[0m\u001b[0;34m,\u001b[0m \u001b[0;34m\"text\"\u001b[0m\u001b[0;34m]\u001b[0m\u001b[0;34m)\u001b[0m\u001b[0;34m\u001b[0m\u001b[0;34m\u001b[0m\u001b[0m\n",
      "\u001b[0;32m<ipython-input-15-d102787f2475>\u001b[0m in \u001b[0;36mmake_node\u001b[0;34m(dom_node, data)\u001b[0m\n\u001b[1;32m      1\u001b[0m \u001b[0;32mdef\u001b[0m \u001b[0mmake_node\u001b[0m\u001b[0;34m(\u001b[0m\u001b[0mdom_node\u001b[0m\u001b[0;34m,\u001b[0m \u001b[0mdata\u001b[0m\u001b[0;34m=\u001b[0m\u001b[0;32mNone\u001b[0m\u001b[0;34m)\u001b[0m\u001b[0;34m:\u001b[0m\u001b[0;34m\u001b[0m\u001b[0;34m\u001b[0m\u001b[0m\n\u001b[0;32m----> 2\u001b[0;31m     \u001b[0;32mreturn\u001b[0m \u001b[0mGraphNode\u001b[0m\u001b[0;34m(\u001b[0m\u001b[0mdom_node\u001b[0m\u001b[0;34m,\u001b[0m \u001b[0mdata\u001b[0m\u001b[0;34m=\u001b[0m\u001b[0mdata\u001b[0m\u001b[0;34m)\u001b[0m\u001b[0;34m\u001b[0m\u001b[0;34m\u001b[0m\u001b[0m\n\u001b[0m\u001b[1;32m      3\u001b[0m \u001b[0;34m\u001b[0m\u001b[0m\n\u001b[1;32m      4\u001b[0m \u001b[0;32mdef\u001b[0m \u001b[0mmake_edge\u001b[0m\u001b[0;34m(\u001b[0m\u001b[0mstart\u001b[0m\u001b[0;34m,\u001b[0m \u001b[0mend\u001b[0m\u001b[0;34m,\u001b[0m \u001b[0;34m*\u001b[0m\u001b[0margs\u001b[0m\u001b[0;34m,\u001b[0m \u001b[0;34m**\u001b[0m\u001b[0mkwargs\u001b[0m\u001b[0;34m)\u001b[0m\u001b[0;34m:\u001b[0m\u001b[0;34m\u001b[0m\u001b[0;34m\u001b[0m\u001b[0m\n\u001b[1;32m      5\u001b[0m     \u001b[0;32mreturn\u001b[0m \u001b[0mGraphEdge\u001b[0m\u001b[0;34m(\u001b[0m\u001b[0mstart\u001b[0m\u001b[0;34m,\u001b[0m \u001b[0mend\u001b[0m\u001b[0;34m,\u001b[0m \u001b[0;34m*\u001b[0m\u001b[0margs\u001b[0m\u001b[0;34m,\u001b[0m \u001b[0;34m**\u001b[0m\u001b[0mkwargs\u001b[0m\u001b[0;34m)\u001b[0m\u001b[0;34m\u001b[0m\u001b[0;34m\u001b[0m\u001b[0m\n",
      "\u001b[0;32m<ipython-input-12-68f9caa912ab>\u001b[0m in \u001b[0;36m__init__\u001b[0;34m(self, dom_node, data)\u001b[0m\n\u001b[1;32m      7\u001b[0m         \u001b[0mself\u001b[0m\u001b[0;34m.\u001b[0m\u001b[0m_data\u001b[0m \u001b[0;34m=\u001b[0m \u001b[0mdata\u001b[0m\u001b[0;34m\u001b[0m\u001b[0;34m\u001b[0m\u001b[0m\n\u001b[1;32m      8\u001b[0m         \u001b[0mself\u001b[0m\u001b[0;34m.\u001b[0m\u001b[0m_underlying_dom_node\u001b[0m \u001b[0;34m=\u001b[0m \u001b[0mdom_node\u001b[0m\u001b[0;34m\u001b[0m\u001b[0;34m\u001b[0m\u001b[0m\n\u001b[0;32m----> 9\u001b[0;31m         \u001b[0mself\u001b[0m\u001b[0;34m.\u001b[0m\u001b[0m_node_id\u001b[0m \u001b[0;34m=\u001b[0m \u001b[0mdom_node\u001b[0m\u001b[0;34m.\u001b[0m\u001b[0mid\u001b[0m\u001b[0;34m\u001b[0m\u001b[0;34m\u001b[0m\u001b[0m\n\u001b[0m\u001b[1;32m     10\u001b[0m \u001b[0;34m\u001b[0m\u001b[0m\n\u001b[1;32m     11\u001b[0m \u001b[0;34m\u001b[0m\u001b[0m\n",
      "\u001b[0;31mAttributeError\u001b[0m: 'NoneType' object has no attribute 'id'"
     ]
    }
   ],
   "source": [
    "gc.initialize_root()"
   ]
  },
  {
   "cell_type": "code",
   "execution_count": null,
   "id": "cooperative-klein",
   "metadata": {},
   "outputs": [],
   "source": [
    "list(map(str, list(gc.graph)))"
   ]
  },
  {
   "cell_type": "code",
   "execution_count": null,
   "id": "stainless-sigma",
   "metadata": {},
   "outputs": [],
   "source": [
    "len(gc.graph)"
   ]
  },
  {
   "cell_type": "code",
   "execution_count": null,
   "id": "swiss-surname",
   "metadata": {},
   "outputs": [],
   "source": [
    "gc"
   ]
  },
  {
   "cell_type": "code",
   "execution_count": null,
   "id": "sunrise-darwin",
   "metadata": {},
   "outputs": [],
   "source": [
    "root = make_node(URL, '\\n'.join(gc.find_all_text()))"
   ]
  },
  {
   "cell_type": "code",
   "execution_count": null,
   "id": "surprising-amendment",
   "metadata": {},
   "outputs": [],
   "source": [
    "print(root.data())"
   ]
  },
  {
   "cell_type": "code",
   "execution_count": null,
   "id": "offensive-breast",
   "metadata": {},
   "outputs": [],
   "source": [
    "gc.graph.bfs_explore(start=root, use_neighbors=GraphCrawler.use_neighbors, search_params=params)"
   ]
  },
  {
   "cell_type": "code",
   "execution_count": null,
   "id": "noticed-walter",
   "metadata": {},
   "outputs": [],
   "source": [
    "# params = SearchParams(_max_depth=2, _max_nodes_bound=3, _max_edges_bound=3)"
   ]
  },
  {
   "cell_type": "code",
   "execution_count": null,
   "id": "occupational-acrylic",
   "metadata": {},
   "outputs": [],
   "source": [
    "# print(gc)"
   ]
  },
  {
   "cell_type": "code",
   "execution_count": null,
   "id": "invisible-september",
   "metadata": {},
   "outputs": [],
   "source": []
  },
  {
   "cell_type": "code",
   "execution_count": null,
   "id": "collaborative-identification",
   "metadata": {},
   "outputs": [],
   "source": [
    "# for x in geb:\n",
    "#     print(x)"
   ]
  },
  {
   "cell_type": "code",
   "execution_count": null,
   "id": "latter-young",
   "metadata": {},
   "outputs": [],
   "source": [
    "# help(gc)"
   ]
  },
  {
   "cell_type": "code",
   "execution_count": null,
   "id": "personal-works",
   "metadata": {},
   "outputs": [],
   "source": []
  },
  {
   "cell_type": "code",
   "execution_count": null,
   "id": "parliamentary-gasoline",
   "metadata": {},
   "outputs": [],
   "source": []
  },
  {
   "cell_type": "code",
   "execution_count": null,
   "id": "revolutionary-continuity",
   "metadata": {},
   "outputs": [],
   "source": []
  }
 ],
 "metadata": {
  "kernelspec": {
   "display_name": "Python 3",
   "language": "python",
   "name": "python3"
  },
  "language_info": {
   "codemirror_mode": {
    "name": "ipython",
    "version": 3
   },
   "file_extension": ".py",
   "mimetype": "text/x-python",
   "name": "python",
   "nbconvert_exporter": "python",
   "pygments_lexer": "ipython3",
   "version": "3.8.5"
  }
 },
 "nbformat": 4,
 "nbformat_minor": 5
}
